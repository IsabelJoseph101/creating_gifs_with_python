{
  "nbformat": 4,
  "nbformat_minor": 0,
  "metadata": {
    "colab": {
      "name": "Untitled7.ipynb",
      "provenance": [],
      "authorship_tag": "ABX9TyMpSbdJrRfVPNvcFarVEXbT",
      "include_colab_link": true
    },
    "kernelspec": {
      "name": "python3",
      "display_name": "Python 3"
    }
  },
  "cells": [
    {
      "cell_type": "markdown",
      "metadata": {
        "id": "view-in-github",
        "colab_type": "text"
      },
      "source": [
        "<a href=\"https://colab.research.google.com/github/IsabelJoseph101/creating_gifs_with_python/blob/master/index.ipynb\" target=\"_parent\"><img src=\"https://colab.research.google.com/assets/colab-badge.svg\" alt=\"Open In Colab\"/></a>"
      ]
    },
    {
      "cell_type": "markdown",
      "metadata": {
        "id": "nLT81pCADh4w",
        "colab_type": "text"
      },
      "source": [
        "# Creating Animated GIFS Using Python"
      ]
    },
    {
      "cell_type": "markdown",
      "metadata": {
        "id": "JrbUBEBBTlt7",
        "colab_type": "text"
      },
      "source": [
        "For this project i will be drawing a smiley face using Python and its Pillow library, and also transforming it into an animated gif.\n"
      ]
    },
    {
      "cell_type": "markdown",
      "metadata": {
        "id": "s_Q7bbM7DnAs",
        "colab_type": "text"
      },
      "source": [
        "# Importing necessary packages"
      ]
    },
    {
      "cell_type": "code",
      "metadata": {
        "id": "MU1YxxY0Czh-",
        "colab_type": "code",
        "colab": {
          "base_uri": "https://localhost:8080/",
          "height": 373
        },
        "outputId": "c563b212-0dc3-4ca5-dbbf-c3f12f606c15"
      },
      "source": [
        "# importing all the necessary packages\n",
        "from PIL import Image, ImageDraw, ImageFont\n",
        "import glob, os\n",
        "!pip install pytesseract\n",
        "!pip install tesseract\n",
        "import pytesseract\n",
        "pytesseract.pytesseract.tesseract_cmd = (r'/usr/bin/tesseract')\n",
        "import math\n",
        "from IPython.display import Image"
      ],
      "execution_count": 1,
      "outputs": [
        {
          "output_type": "stream",
          "text": [
            "Collecting pytesseract\n",
            "  Downloading https://files.pythonhosted.org/packages/17/4b/4dbd55388225bb6cd243d21f70e77cb3ce061e241257485936324b8e920f/pytesseract-0.3.6.tar.gz\n",
            "Requirement already satisfied: Pillow in /usr/local/lib/python3.6/dist-packages (from pytesseract) (7.0.0)\n",
            "Building wheels for collected packages: pytesseract\n",
            "  Building wheel for pytesseract (setup.py) ... \u001b[?25l\u001b[?25hdone\n",
            "  Created wheel for pytesseract: filename=pytesseract-0.3.6-py2.py3-none-any.whl size=13629 sha256=16e9cf673726d5a0db08eff9c4e46f250e89427561497741f78a668673ece6e2\n",
            "  Stored in directory: /root/.cache/pip/wheels/ee/71/72/b98430261d849ae631e283dfc7ccb456a3fb2ed2205714b63f\n",
            "Successfully built pytesseract\n",
            "Installing collected packages: pytesseract\n",
            "Successfully installed pytesseract-0.3.6\n",
            "Collecting tesseract\n",
            "\u001b[?25l  Downloading https://files.pythonhosted.org/packages/8d/b7/c4fae9af5842f69d9c45bf1195a94aec090628535c102894552a7a7dbe6c/tesseract-0.1.3.tar.gz (45.6MB)\n",
            "\u001b[K     |████████████████████████████████| 45.6MB 85kB/s \n",
            "\u001b[?25hBuilding wheels for collected packages: tesseract\n",
            "  Building wheel for tesseract (setup.py) ... \u001b[?25l\u001b[?25hdone\n",
            "  Created wheel for tesseract: filename=tesseract-0.1.3-cp36-none-any.whl size=45562572 sha256=15defd4ef652482e944046a60b5e1cff2c87acead6cad90bc71482415b27de0f\n",
            "  Stored in directory: /root/.cache/pip/wheels/82/1f/d9/24797b123379e4ea9511cf660835468b62dad609634cad2aba\n",
            "Successfully built tesseract\n",
            "Installing collected packages: tesseract\n",
            "Successfully installed tesseract-0.1.3\n"
          ],
          "name": "stdout"
        }
      ]
    },
    {
      "cell_type": "markdown",
      "metadata": {
        "id": "uZ8VTiEUS8Pf",
        "colab_type": "text"
      },
      "source": [
        "# Code generated animated gifs\n"
      ]
    },
    {
      "cell_type": "markdown",
      "metadata": {
        "id": "acBCUSiOJSVe",
        "colab_type": "text"
      },
      "source": [
        "To start with i created a list of file names for each of our single image gifs. I created 40 frames (2 sec at 10 frames per second)."
      ]
    },
    {
      "cell_type": "code",
      "metadata": {
        "id": "dOlDpGinEpTr",
        "colab_type": "code",
        "colab": {}
      },
      "source": [
        "# creating a list of file names for each gif\n",
        "names = ['image{:02d}.gif'.format(i) for i in range(40)]"
      ],
      "execution_count": 4,
      "outputs": []
    },
    {
      "cell_type": "code",
      "metadata": {
        "id": "DrCkbTJDJ13o",
        "colab_type": "code",
        "colab": {}
      },
      "source": [
        "# creating a 250x250 size pink background\n",
        "bg = Image.new(\"RGB\", (250, 250), 'pink')"
      ],
      "execution_count": 12,
      "outputs": []
    },
    {
      "cell_type": "code",
      "metadata": {
        "id": "tzV0GjYbJ-9b",
        "colab_type": "code",
        "colab": {
          "base_uri": "https://localhost:8080/",
          "height": 267
        },
        "outputId": "cb81862e-5061-43b5-9a3e-7bcfb5dd2120"
      },
      "source": [
        "# displaying the background\n",
        "bg"
      ],
      "execution_count": 13,
      "outputs": [
        {
          "output_type": "execute_result",
          "data": {
            "image/png": "[encoded data removed]",
            "text/plain": [
              "<PIL.Image.Image image mode=RGB size=250x250 at 0x7F1C1A93A5C0>"
            ]
          },
          "metadata": {
            "tags": []
          },
          "execution_count": 13
        }
      ]
    },
    {
      "cell_type": "markdown",
      "metadata": {
        "id": "_Yn-3YR2KdJC",
        "colab_type": "text"
      },
      "source": [
        "After creating the background, i will make a for loop that goess over each of the file names that i created earlier, creating a smiley face on each."
      ]
    },
    {
      "cell_type": "code",
      "metadata": {
        "id": "QhO5rIIFEpcA",
        "colab_type": "code",
        "colab": {}
      },
      "source": [
        "# creating a for loop that creates a smiley face on each of the 40 frames\n",
        "pos = 0\n",
        "for n in names:\n",
        "    frame = bg.copy()\n",
        "    # creating an object that can be used to draw on the background\n",
        "    draw = ImageDraw.Draw(frame)\n",
        "    # creating the face\n",
        "    draw.ellipse((pos,pos,pos+90,pos+90),'yellow','teal')\n",
        "    # creating the eyes\n",
        "    draw.ellipse((pos+25,pos+20,pos+35,pos+30),'teal','black')\n",
        "    draw.ellipse((pos+50,pos+20,pos+60,pos+30),'teal','black')\n",
        "    # creating the smile\n",
        "    draw.arc((pos+20,pos+30,pos+70,pos+70), 0, 180, 0)\n",
        "    frame.save(n)\n",
        "    pos += 5"
      ],
      "execution_count": 188,
      "outputs": []
    },
    {
      "cell_type": "code",
      "metadata": {
        "id": "lqP9yo5EOZhJ",
        "colab_type": "code",
        "colab": {}
      },
      "source": [
        "# opening all the frames\n",
        "images = []\n",
        "\n",
        "for n in names:\n",
        "    frame = Image.open(n)\n",
        "    images.append(frame)"
      ],
      "execution_count": 189,
      "outputs": []
    },
    {
      "cell_type": "code",
      "metadata": {
        "id": "pBRtvGIZOwP5",
        "colab_type": "code",
        "colab": {}
      },
      "source": [
        "# saving the frames as an animated GIF\n",
        "images[0].save('smileyface.gif',\n",
        "               save_all=True,\n",
        "               append_images=images[1:],\n",
        "               duration=100,\n",
        "               loop=0)"
      ],
      "execution_count": 190,
      "outputs": []
    },
    {
      "cell_type": "code",
      "metadata": {
        "id": "yLhu66A9XYk0",
        "colab_type": "code",
        "colab": {
          "base_uri": "https://localhost:8080/",
          "height": 271
        },
        "outputId": "bc0bfcbc-68bf-4ca5-a31a-d78b5b8f5e3f"
      },
      "source": [
        "# displaying the final gif\n",
        "Image(url='https://raw.githubusercontent.com/IsabelJoseph101/creating_gifs_with_python/master/smileyface.gif')"
      ],
      "execution_count": 201,
      "outputs": [
        {
          "output_type": "execute_result",
          "data": {
            "text/html": [
              "<img src=\"https://raw.githubusercontent.com/IsabelJoseph101/creating_gifs_with_python/master/smileyface.gif\"/>"
            ],
            "text/plain": [
              "<IPython.core.display.Image object>"
            ]
          },
          "metadata": {
            "tags": []
          },
          "execution_count": 201
        }
      ]
    }
  ]
}